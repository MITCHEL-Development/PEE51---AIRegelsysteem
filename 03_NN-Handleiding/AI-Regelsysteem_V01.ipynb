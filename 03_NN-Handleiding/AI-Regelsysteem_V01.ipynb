{
 "cells": [
  {
   "cell_type": "code",
   "execution_count": null,
   "id": "c26528e3",
   "metadata": {},
   "outputs": [],
   "source": [
    "### ====> https://www.tensorflow.org/install/pip#windows-native_1\n",
    "### ====> conda install -c conda-forge cudatoolkit=11.2 cudnn=8.1.0\n",
    "\n",
    "\n",
    "import numpy as np\n",
    "import pandas as pd\n",
    "import matplotlib.pyplot as plt\n",
    "import tensorflow as tf\n",
    "from tensorflow import keras\n",
    "from keras import layers, models, callbacks, preprocessing\n",
    "from sklearn.model_selection import train_test_split \n",
    "from keras.layers import Input, Dense, Conv1D, Flatten\n",
    "from keras.models import Model, Sequential\n",
    "from sklearn.preprocessing import MinMaxScaler\n",
    "import keras\n",
    "import keras_tuner as kt\n",
    "\n",
    "print(\"Num GPUs Available: \", len(tf.config.list_physical_devices('GPU')))"
   ]
  },
  {
   "cell_type": "markdown",
   "id": "06f81360",
   "metadata": {},
   "source": [
    "# GPU instellen"
   ]
  },
  {
   "cell_type": "code",
   "execution_count": null,
   "id": "2a3eea7f",
   "metadata": {},
   "outputs": [],
   "source": [
    "gpus = tf.config.list_physical_devices('GPU')\n",
    "print(\"Beschikbare GPU(s):\", gpus)\n",
    "\n",
    "strategy = tf.distribute.MirroredStrategy(devices=[\"/gpu:1\"])\n",
    "print(\"Aantal GPU's:\", strategy.num_replicas_in_sync)\n",
    "\n",
    "\n"
   ]
  },
  {
   "cell_type": "markdown",
   "id": "928e7d01",
   "metadata": {},
   "source": [
    "# CSV Import en het Plotten/uitlezen van de CSV"
   ]
  },
  {
   "cell_type": "code",
   "execution_count": null,
   "id": "09f00f5c",
   "metadata": {},
   "outputs": [],
   "source": [
    "CSV_PATH = '/Users\\AI-Regeling\\CODE\\simulatie_resultaten_100001_20250613_115609.csv'\n",
    "CSV_DATA = pd.read_csv(CSV_PATH)\n",
    "print(CSV_DATA.head())\n",
    "print(CSV_DATA.columns)\n",
    "print(CSV_DATA.describe())\n",
    "print(CSV_DATA.info())\n",
    "print(CSV_DATA.shape)\n",
    "print(CSV_DATA.dtypes)\n",
    "print(CSV_DATA.isnull().sum())\n",
    "print(CSV_DATA.nunique())\n",
    "print(CSV_DATA.memory_usage(deep=True))\n",
    "print(CSV_DATA)\n",
    "\n",
    "# Toon aantal samples\n",
    "total_samples = len(CSV_DATA)\n",
    "print(f\"Aantal samples: {total_samples}\")\n",
    "print(f\"Indexbereik: 0 t/m {total_samples - 1}\")\n",
    "\n",
    "# Dynamisch start en end kiezen\n",
    "start = 0\n",
    "end = min(20000, total_samples)\n",
    "\n",
    "# Veiligheidscheck\n",
    "if end > start:\n",
    "    x_range = range(start, end)\n",
    "\n",
    "    plt.figure()\n",
    "    plt.plot(x_range, CSV_DATA[\"Hoogte (m)\"][start:end], 'b.', label=\"Hoogte\")\n",
    "    plt.plot(x_range, CSV_DATA[\"Setpoint (m)\"][start:end], 'g.', label=\"Doelhoogte\")\n",
    "    plt.plot(x_range, CSV_DATA[\"PWM\"][start:end], 'r.', label=\"PWM\")\n",
    "    plt.title(f\"Samples {start} tot {end}\")\n",
    "    plt.xlabel(\"Tijd (s)\")\n",
    "    plt.ylabel(\"Hoogte (m)\")\n",
    "    plt.grid(True)\n",
    "    plt.legend()\n",
    "\n",
    "    plt.figure()\n",
    "    plt.plot(x_range, CSV_DATA[\"Fout\"][start:end], 'm.', label=\"Fout\")\n",
    "    plt.title(f\"Samples {start} tot {end}\")\n",
    "    plt.xlabel(\"Tijd (s)\")\n",
    "    plt.ylabel(\"Hoogte (m)\")\n",
    "    plt.grid(True)\n",
    "    plt.legend()\n",
    "\n",
    "    plt.figure()\n",
    "    plt.plot(x_range, CSV_DATA[\"Fout_Integratie\"][start:end], 'c.', label=\"Fout_Integratie\")\n",
    "    plt.title(f\"Samples {start} tot {end}\")\n",
    "    plt.xlabel(\"Tijd (s)\")\n",
    "    plt.ylabel(\"Hoogte (m)\")\n",
    "    plt.grid(True)\n",
    "    plt.legend()\n",
    "\n",
    "    plt.figure()\n",
    "    plt.plot(x_range, CSV_DATA[\"Fout_Afgeleide\"][start:end], 'y.', label=\"Fout_Afgeleide\")\n",
    "    plt.title(f\"Samples {start} tot {end}\")\n",
    "    plt.xlabel(\"Tijd (s)\")\n",
    "    plt.ylabel(\"Hoogte (m)\")\n",
    "    plt.grid(True)\n",
    "    plt.legend()\n",
    "\n",
    "    plt.show()\n",
    "else:\n",
    "    print(\"⚠️ Niet genoeg samples om in dit bereik te plotten.\")"
   ]
  },
  {
   "cell_type": "markdown",
   "id": "e732ff38",
   "metadata": {},
   "source": [
    "# CSV verbinden met input/output trainset"
   ]
  },
  {
   "cell_type": "code",
   "execution_count": null,
   "id": "b76f415a",
   "metadata": {},
   "outputs": [],
   "source": [
    "# Selecteer features en target\n",
    "features = CSV_DATA[['Setpoint (m)', 'Hoogte (m)', 'Fout', 'Fout_Integratie', 'Fout_Afgeleide']].to_numpy()\n",
    "target = CSV_DATA['PWM'].to_numpy()\n",
    "\n",
    "# # Normaliseer alleen de features\n",
    "# feature_scaler = MinMaxScaler()\n",
    "# features = feature_scaler.fit_transform(features_raw)\n",
    "\n",
    "# Print informatie\n",
    "print(f\"Features shape: {features.shape}\")\n",
    "print(f\"Target shape: {target.shape}\\n\")\n",
    "\n",
    "print(\"🔹 Originele features (eerste 5 samples):\")\n",
    "print(features[:5])\n",
    "\n",
    "print(\"\\n🔸 Genormaliseerde features (eerste 5 samples):\")\n",
    "print(features[:5])\n",
    "\n",
    "print(\"\\n🎯 Target (eerste 5 waarden):\")\n",
    "print(target[:5])\n",
    "\n",
    "# Voor inverse transform later:\n",
    "# originele_features = feature_scaler.inverse_transform(features)"
   ]
  },
  {
   "cell_type": "code",
   "execution_count": null,
   "id": "05f32a29",
   "metadata": {},
   "outputs": [],
   "source": [
    "n_input = 2  # aantal tijdstappen per voorbeeld\n",
    "\n",
    "X, y = [], []\n",
    "\n",
    "for i in range(len(features) - n_input):\n",
    "    X.append(features[i:i + n_input])\n",
    "    y.append(target[i + n_input])  # de PWM bij het volgende moment\n",
    "\n",
    "X = np.array(X)  # shape: (samples, n_input, features)\n",
    "y = np.array(y)\n",
    "\n",
    "print(\"X shape:\", X.shape)  # (samples, tijdstappen, features)\n",
    "print(\"y shape:\", y.shape)  # (samples,)\n",
    "print(\"X:\", X)  # (samples, tijdstappen, features)\n",
    "print(\"y:\", y) "
   ]
  },
  {
   "cell_type": "markdown",
   "id": "0e37fd2c",
   "metadata": {},
   "source": [
    "# het Splitten van de Trainingset en Testset en het weergeven van de Testset op de Trainingset"
   ]
  },
  {
   "cell_type": "code",
   "execution_count": null,
   "id": "29ea403d",
   "metadata": {},
   "outputs": [],
   "source": [
    "# Lengte van dataset\n",
    "n = len(y)\n",
    "\n",
    "# Hoeveel samples is 20%\n",
    "test_len = int(n * 0.2)\n",
    "\n",
    "# Kies handmatig waar je testdata begint\n",
    "test_start = 3000  # bijvoorbeeld index 3000\n",
    "test_end = test_start + test_len\n",
    "\n",
    "# Zorg dat je niet buiten de dataset gaat\n",
    "assert test_end <= n, \"Testblok gaat buiten dataset!\"\n",
    "\n",
    "# Slice y en X\n",
    "X_test, y_test = X[test_start:test_end], y[test_start:test_end]\n",
    "X_train = np.concatenate((X[:test_start], X[test_end:]), axis=0)\n",
    "y_train = np.concatenate((y[:test_start], y[test_end:]), axis=0)\n",
    "\n",
    "print(f\"Test range: index {test_start}–{test_end-1}\")\n",
    "print(f\"Train samples: {len(y_train)}\")\n",
    "print(f\"Test samples: {len(y_test)}\")\n",
    "\n",
    "\n",
    "import matplotlib.pyplot as plt\n",
    "\n",
    "full_indices = np.arange(len(y))\n",
    "idx_test = np.arange(test_start, test_end)\n",
    "idx_train = np.setdiff1d(full_indices, idx_test)\n",
    "\n",
    "plt.figure(figsize=(12, 4))\n",
    "plt.plot(full_indices, y, color='lightgray', label=\"Volledige y\")\n",
    "plt.plot(idx_test, y_test, 'r.', label=\"y_test (selectieblok)\", markersize=5)\n",
    "plt.plot(idx_train, y_train, 'b.', label=\"y_train (rest)\", markersize=5)\n",
    "\n",
    "plt.title(f\"Verdeling van y_train en y_test (test van {test_start} t/m {test_end - 1})\")\n",
    "plt.xlabel(\"Sample index\")\n",
    "plt.ylabel(\"PWM waarde\")\n",
    "plt.legend()\n",
    "plt.grid(True)\n",
    "plt.tight_layout()\n",
    "plt.show()"
   ]
  },
  {
   "cell_type": "markdown",
   "id": "45c58157",
   "metadata": {},
   "source": [
    "# Model Aanmaken en compilen met GPU"
   ]
  },
  {
   "cell_type": "code",
   "execution_count": null,
   "id": "f98f1be6",
   "metadata": {},
   "outputs": [],
   "source": [
    "with strategy.scope():\n",
    "    model = Sequential([\n",
    "    Conv1D(filters=16, kernel_size=2, activation='relu', input_shape=(n_input, X.shape[2])),  # 8 filters\n",
    "    Flatten(),\n",
    "    Dense(56, activation='sigmoid'),  # Hidden layer 1\n",
    "    Dense(12, activation='sigmoid'),  # Hidden layer 2\n",
    "    Dense(1)  # Output layer met 8 neuronen\n",
    "])\n",
    "    model.compile(optimizer='adam', loss='mse')\n",
    "    \n"
   ]
  },
  {
   "cell_type": "markdown",
   "id": "997ac1d1",
   "metadata": {},
   "source": [
    "# Model Aanmaken (Standaard Versie)"
   ]
  },
  {
   "cell_type": "code",
   "execution_count": null,
   "id": "4dea3436",
   "metadata": {},
   "outputs": [],
   "source": [
    "# model = Sequential([\n",
    "#     Conv1D(filters=16, kernel_size=2, activation='relu', input_shape=(n_input, X.shape[2])),  # 8 filters\n",
    "#     Flatten(),\n",
    "#     Dense(56, activation='sigmoid'),  # Hidden layer 1\n",
    "#     Dense(12, activation='sigmoid'),  # Hidden layer 2\n",
    "#     Dense(1)  # Output layer met 8 neuronen\n",
    "# ])\n",
    "\n",
    "# model = Sequential([\n",
    "#     Conv1D(filters=32, kernel_size=2, activation='relu', input_shape=(n_input, X.shape[2])),\n",
    "#     Flatten(),\n",
    "#     Dense(64, activation='relu'),\n",
    "#     Dense(1)  # Één PWM-waarde voorspellen\n",
    "# ])\n",
    "\n",
    "# model = Sequential([\n",
    "#     Conv1D(filters=8, kernel_size=2, activation='relu', input_shape=(n_input, X.shape[2])),  # 8 filters\n",
    "#     Flatten(),\n",
    "#     Dense(8, activation='relu'),  # Hidden layer 1\n",
    "#     Dense(8, activation='relu'),  # Hidden layer 2\n",
    "#     Dense(1)  # Output layer met 8 neuronen\n",
    "# ])\n",
    "\n",
    "print(\"n_input:\", n_input)\n",
    "print(\"X.shape[2]:\", X.shape[2])\n",
    "model.summary()"
   ]
  },
  {
   "cell_type": "markdown",
   "id": "2705f4e6",
   "metadata": {},
   "source": [
    "# Model aanmaken (Fine Tuning)"
   ]
  },
  {
   "cell_type": "code",
   "execution_count": null,
   "id": "2666fc8f",
   "metadata": {},
   "outputs": [],
   "source": [
    "# def model_builder(hp):\n",
    "#     model = Sequential()\n",
    "\n",
    "#     # Conv1D laag met tunable filters en kernel size\n",
    "#     model.add(Conv1D(\n",
    "#     filters=hp.Int('filters', 4, 32, step=4),\n",
    "#     kernel_size=hp.Int('kernel_size', 1, min(n_input, 5), step=1),  # max kernel_size aangepast aan input\n",
    "#     activation=hp.Choice('conv_activation', ['relu', 'tanh', 'sigmoid']),\n",
    "#     padding='same',  # voorkomt output <= 0\n",
    "#     input_shape=(n_input, X.shape[2])\n",
    "# ))\n",
    "\n",
    "\n",
    "#     model.add(Flatten())\n",
    "\n",
    "#     # Hidden Dense layer 1\n",
    "#     model.add(Dense(\n",
    "#         units=hp.Int('dense1_units', min_value=4, max_value=64, step=4),\n",
    "#         activation=hp.Choice('dense1_activation', values=['relu', 'tanh', 'sigmoid'])\n",
    "#     ))\n",
    "\n",
    "#     # Hidden Dense layer 2\n",
    "#     model.add(Dense(\n",
    "#         units=hp.Int('dense2_units', min_value=4, max_value=64, step=4),\n",
    "#         activation=hp.Choice('dense2_activation', values=['relu', 'tanh', 'sigmoid'])\n",
    "#     ))\n",
    "\n",
    "#     # Output layer (voor regressie zonder activatie of 'sigmoid'/'softmax' voor classificatie)\n",
    "#     model.add(Dense(1))\n",
    "\n",
    "#     # Learning rate als hyperparameter\n",
    "#     hp_learning_rate = hp.Choice('learning_rate', values=[1e-2, 1e-3, 1e-4])\n",
    "\n",
    "#     model.compile(\n",
    "#         optimizer=tf.keras.optimizers.Adam(learning_rate=hp_learning_rate),\n",
    "#         loss='mse',  # pas aan als je classificatie doet\n",
    "#         metrics=['mae']  # pas aan indien nodig\n",
    "#     )\n",
    "\n",
    "#     return model"
   ]
  },
  {
   "cell_type": "markdown",
   "id": "613c42eb",
   "metadata": {},
   "source": [
    "# Model Fine tuning"
   ]
  },
  {
   "cell_type": "code",
   "execution_count": null,
   "id": "7676a6ff",
   "metadata": {},
   "outputs": [],
   "source": [
    "# tuner = kt.RandomSearch(\n",
    "#     model_builder,\n",
    "#     objective='val_mae',  # of 'val_accuracy' bij classificatie\n",
    "#     max_trials=10,\n",
    "#     executions_per_trial=1,\n",
    "#     directory='my_dir',\n",
    "#     project_name='cnn_dense_tuning'\n",
    "# )\n",
    "\n",
    "# tuner.search(X_train, y_train, epochs=1, validation_split=0.2)\n",
    "\n",
    "# best_hps = tuner.get_best_hyperparameters(num_trials=1)[0]\n",
    "# print(f\"\"\"\n",
    "# Beste Conv1D filters: {best_hps.get('filters')}\n",
    "# Beste kernel_size: {best_hps.get('kernel_size')}\n",
    "# Activatie Conv: {best_hps.get('conv_activation')}\n",
    "# Dense1: {best_hps.get('dense1_units')} units, activatie: {best_hps.get('dense1_activation')}\n",
    "# Dense2: {best_hps.get('dense2_units')} units, activatie: {best_hps.get('dense2_activation')}\n",
    "# Learning rate: {best_hps.get('learning_rate')}\n",
    "# \"\"\")\n"
   ]
  },
  {
   "cell_type": "markdown",
   "id": "29a804a1",
   "metadata": {},
   "source": [
    "# Model Compilen (Standaard Versie)"
   ]
  },
  {
   "cell_type": "code",
   "execution_count": null,
   "id": "ee9ad7da",
   "metadata": {},
   "outputs": [],
   "source": [
    "# model.compile(optimizer='adam', loss='mse')"
   ]
  },
  {
   "cell_type": "markdown",
   "id": "61d49df6",
   "metadata": {},
   "source": [
    "# Model Trainen"
   ]
  },
  {
   "cell_type": "code",
   "execution_count": null,
   "id": "1b2e5b9c",
   "metadata": {},
   "outputs": [],
   "source": [
    "print(tf.config.list_physical_devices('GPU'))\n",
    "history = model.fit(X_train, y_train, epochs=5, batch_size=32, validation_data=(X_test, y_test))\n",
    "\n",
    "# model = tuner.hypermodel.build(best_hps)\n",
    "\n",
    "# history = model.fit(\n",
    "#     X_train,\n",
    "#     y_train,\n",
    "#     epochs=5,\n",
    "#     batch_size=32,\n",
    "#     validation_data=(X_test, y_test)\n",
    "# )"
   ]
  },
  {
   "cell_type": "markdown",
   "id": "0f427b50",
   "metadata": {},
   "source": [
    "# Training en validation loss Plotten"
   ]
  },
  {
   "cell_type": "code",
   "execution_count": null,
   "id": "fee87e0c",
   "metadata": {},
   "outputs": [],
   "source": [
    "# Plot the training history\n",
    "loss = history.history['loss']\n",
    "val_loss = history.history['val_loss']\n",
    "\n",
    "\n",
    "epochs = range(1, len(loss) + 1)\n",
    "\n",
    "\n",
    "# Plot loss\n",
    "plt.figure()\n",
    "plt.plot(history.history['loss'], label='Train Loss')\n",
    "plt.plot(history.history['val_loss'], label='Validation Loss')\n",
    "plt.title('Model Loss')\n",
    "plt.xlabel('Epoch')\n",
    "plt.ylabel('Loss')\n",
    "plt.legend()\n",
    "plt.grid(True)\n",
    "\n",
    "plt.show()"
   ]
  },
  {
   "cell_type": "markdown",
   "id": "8a83b4d0",
   "metadata": {},
   "source": [
    "# Predict"
   ]
  },
  {
   "cell_type": "code",
   "execution_count": null,
   "id": "4548ef92",
   "metadata": {},
   "outputs": [],
   "source": [
    "import numpy as np\n",
    "import matplotlib.pyplot as plt\n",
    "\n",
    "# Maak voorspellingen\n",
    "predictions = model.predict(X_test).flatten()\n",
    "\n",
    "score = model.evaluate(X_test, y_test)\n",
    "print(f\"\\n{model.metrics_names[0]} : {score}\")\n",
    "\n",
    "print(f\"y_test heeft {len(y_test)} samples (indexbereik: 0 t/m {len(y_test) - 1})\")\n",
    "\n",
    "# Stel de range in\n",
    "start = 10000\n",
    "end = min(20000, len(y_test)) \n",
    "\n",
    "# Plot alleen het gewenste bereik\n",
    "plt.figure()\n",
    "plt.title(f\"Predictions vs Actuals (Samples {start}–{end})\")\n",
    "plt.plot(range(start, end), y_test[start:end], 'b.', label='Actual (True PWM)')\n",
    "plt.plot(range(start, end), predictions[start:end], 'r.', label='Predicted PWM')\n",
    "plt.xlabel(\"Sample index\")\n",
    "plt.ylabel(\"PWM (x100)\")\n",
    "plt.legend()\n",
    "plt.grid(True)\n",
    "\n",
    "plt.show()"
   ]
  },
  {
   "cell_type": "markdown",
   "id": "f6323f6e",
   "metadata": {},
   "source": [
    "# Tflite model Export"
   ]
  },
  {
   "cell_type": "code",
   "execution_count": null,
   "id": "a261baca",
   "metadata": {},
   "outputs": [],
   "source": [
    "model.save(\"model\")\n",
    "\n",
    "\n",
    "converter = tf.lite.TFLiteConverter.from_saved_model(\"model\")\n",
    "converter.optimizations = [tf.lite.Optimize.DEFAULT]\n",
    "converter.target_spec.supported_ops = [tf.lite.OpsSet.TFLITE_BUILTINS]\n",
    "\n",
    "tflite_model = converter.convert()\n",
    "with open(\"model.tflite\", \"wb\") as f:\n",
    "    f.write(tflite_model)\n",
    "print(\"✅ Model succesvol getraind en geconverteerd(.tflite)\")"
   ]
  }
 ],
 "metadata": {
  "kernelspec": {
   "display_name": "AI-Systeem-env",
   "language": "python",
   "name": "python3"
  },
  "language_info": {
   "codemirror_mode": {
    "name": "ipython",
    "version": 3
   },
   "file_extension": ".py",
   "mimetype": "text/x-python",
   "name": "python",
   "nbconvert_exporter": "python",
   "pygments_lexer": "ipython3",
   "version": "3.12.11"
  }
 },
 "nbformat": 4,
 "nbformat_minor": 5
}
